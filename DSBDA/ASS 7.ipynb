{
 "cells": [
  {
   "cell_type": "code",
   "execution_count": 1,
   "id": "a53ba8a6",
   "metadata": {},
   "outputs": [
    {
     "name": "stderr",
     "output_type": "stream",
     "text": [
      "[nltk_data] Downloading package punkt to\n",
      "[nltk_data]     C:\\Users\\Shivam\\AppData\\Roaming\\nltk_data...\n",
      "[nltk_data]   Package punkt is already up-to-date!\n",
      "[nltk_data] Downloading package stopwords to\n",
      "[nltk_data]     C:\\Users\\Shivam\\AppData\\Roaming\\nltk_data...\n",
      "[nltk_data]   Package stopwords is already up-to-date!\n",
      "[nltk_data] Downloading package wordnet to\n",
      "[nltk_data]     C:\\Users\\Shivam\\AppData\\Roaming\\nltk_data...\n",
      "[nltk_data]   Package wordnet is already up-to-date!\n",
      "[nltk_data] Downloading package averaged_perceptron_tagger to\n",
      "[nltk_data]     C:\\Users\\Shivam\\AppData\\Roaming\\nltk_data...\n",
      "[nltk_data]   Package averaged_perceptron_tagger is already up-to-\n",
      "[nltk_data]       date!\n"
     ]
    },
    {
     "data": {
      "text/plain": [
       "True"
      ]
     },
     "execution_count": 1,
     "metadata": {},
     "output_type": "execute_result"
    }
   ],
   "source": [
    "import nltk\n",
    "\n",
    "nltk.download('punkt')\n",
    "nltk.download('stopwords')\n",
    "nltk.download('wordnet')\n",
    "nltk.download('averaged_perceptron_tagger')"
   ]
  },
  {
   "cell_type": "code",
   "execution_count": 2,
   "id": "8e033668",
   "metadata": {},
   "outputs": [],
   "source": [
    "from nltk import word_tokenize, sent_tokenize"
   ]
  },
  {
   "cell_type": "code",
   "execution_count": 3,
   "id": "54b31eaa",
   "metadata": {},
   "outputs": [],
   "source": [
    "corpus=(\"Sachin was the GOAT of previous generation. Virat is the GOAT of this generation. Shubhman is the GOAT of future generation\")"
   ]
  },
  {
   "cell_type": "code",
   "execution_count": 4,
   "id": "f640bd5d",
   "metadata": {},
   "outputs": [
    {
     "name": "stdout",
     "output_type": "stream",
     "text": [
      "['Sachin', 'was', 'the', 'GOAT', 'of', 'previous', 'generation', '.', 'Virat', 'is', 'the', 'GOAT', 'of', 'this', 'generation', '.', 'Shubhman', 'is', 'the', 'GOAT', 'of', 'future', 'generation']\n",
      "['Sachin was the GOAT of previous generation.', 'Virat is the GOAT of this generation.', 'Shubhman is the GOAT of future generation']\n"
     ]
    }
   ],
   "source": [
    "print(word_tokenize(corpus))\n",
    "print(sent_tokenize(corpus))"
   ]
  },
  {
   "cell_type": "code",
   "execution_count": 5,
   "id": "ed5f6699",
   "metadata": {},
   "outputs": [],
   "source": [
    "from nltk import pos_tag"
   ]
  },
  {
   "cell_type": "code",
   "execution_count": 6,
   "id": "81d15ba7",
   "metadata": {},
   "outputs": [
    {
     "name": "stdout",
     "output_type": "stream",
     "text": [
      "[('Sachin', 'NNP'), ('was', 'VBD'), ('the', 'DT'), ('GOAT', 'NNP'), ('of', 'IN'), ('previous', 'JJ'), ('generation', 'NN'), ('.', '.'), ('Virat', 'NNP'), ('is', 'VBZ'), ('the', 'DT'), ('GOAT', 'NNP'), ('of', 'IN'), ('this', 'DT'), ('generation', 'NN'), ('.', '.'), ('Shubhman', 'NNP'), ('is', 'VBZ'), ('the', 'DT'), ('GOAT', 'NNP'), ('of', 'IN'), ('future', 'JJ'), ('generation', 'NN')]\n"
     ]
    }
   ],
   "source": [
    "tokens=word_tokenize(corpus)\n",
    "print(pos_tag(tokens))"
   ]
  },
  {
   "cell_type": "code",
   "execution_count": 7,
   "id": "2f620d28",
   "metadata": {},
   "outputs": [],
   "source": [
    "from nltk.corpus import stopwords\n",
    "stopwords=set(stopwords.words('english'))"
   ]
  },
  {
   "cell_type": "code",
   "execution_count": 8,
   "id": "c02b83b3",
   "metadata": {},
   "outputs": [
    {
     "name": "stdout",
     "output_type": "stream",
     "text": [
      "['Sachin', 'GOAT', 'previous', 'generation', '.', 'Virat', 'GOAT', 'generation', '.', 'Shubhman', 'GOAT', 'future', 'generation']\n"
     ]
    }
   ],
   "source": [
    "tokens=word_tokenize(corpus)\n",
    "cleaned_tokens=[]\n",
    "for token in tokens:\n",
    "    if(token not in stopwords):\n",
    "        cleaned_tokens.append(token)\n",
    "print(cleaned_tokens)"
   ]
  },
  {
   "cell_type": "code",
   "execution_count": 10,
   "id": "09dcb1fb",
   "metadata": {},
   "outputs": [],
   "source": [
    "from nltk.stem import PorterStemmer"
   ]
  },
  {
   "cell_type": "code",
   "execution_count": 11,
   "id": "0cafc246",
   "metadata": {},
   "outputs": [],
   "source": [
    "stemmer=PorterStemmer()"
   ]
  },
  {
   "cell_type": "code",
   "execution_count": 13,
   "id": "77cbe993",
   "metadata": {},
   "outputs": [
    {
     "name": "stdout",
     "output_type": "stream",
     "text": [
      "['sachin', 'goat', 'previou', 'gener', '.', 'virat', 'goat', 'gener', '.', 'shubhman', 'goat', 'futur', 'gener']\n"
     ]
    }
   ],
   "source": [
    "stemmed_tokens=[]\n",
    "for token in cleaned_tokens:\n",
    "        stemmed=stemmer.stem(token)\n",
    "        stemmed_tokens.append(stemmed)\n",
    "print(stemmed_tokens)"
   ]
  },
  {
   "cell_type": "code",
   "execution_count": 14,
   "id": "ff58cec6",
   "metadata": {},
   "outputs": [],
   "source": [
    "from nltk.stem import WordNetLemmatizer"
   ]
  },
  {
   "cell_type": "code",
   "execution_count": 16,
   "id": "f6d42a34",
   "metadata": {},
   "outputs": [],
   "source": [
    "lemmatizer=WordNetLemmatizer()"
   ]
  },
  {
   "cell_type": "code",
   "execution_count": 17,
   "id": "173cf53c",
   "metadata": {},
   "outputs": [
    {
     "name": "stdout",
     "output_type": "stream",
     "text": [
      "['Sachin', 'GOAT', 'previous', 'generation', '.', 'Virat', 'GOAT', 'generation', '.', 'Shubhman', 'GOAT', 'future', 'generation']\n"
     ]
    }
   ],
   "source": [
    "lemmatized_tokens=[]\n",
    "for token in cleaned_tokens:\n",
    "    lemmatized=lemmatizer.lemmatize(token)\n",
    "    lemmatized_tokens.append(lemmatized)\n",
    "print(lemmatized_tokens)"
   ]
  },
  {
   "cell_type": "code",
   "execution_count": 18,
   "id": "fb3f77be",
   "metadata": {},
   "outputs": [],
   "source": [
    "from sklearn.feature_extraction.text import TfidfVectorizer"
   ]
  },
  {
   "cell_type": "code",
   "execution_count": 19,
   "id": "ac5e8a66",
   "metadata": {},
   "outputs": [],
   "source": [
    "vectorizer=TfidfVectorizer()"
   ]
  },
  {
   "cell_type": "code",
   "execution_count": 20,
   "id": "4bd61668",
   "metadata": {},
   "outputs": [],
   "source": [
    "corpus=[\n",
    "    \"Sachin was the GOAT of previous generation\",\n",
    "    \"Virat is the GOAT of this generation\",\n",
    "    \"Shubhman is the GOAT of future generation\"\n",
    "]"
   ]
  },
  {
   "cell_type": "code",
   "execution_count": 21,
   "id": "da33bb6e",
   "metadata": {},
   "outputs": [
    {
     "data": {
      "text/plain": [
       "{'sachin': 6,\n",
       " 'was': 11,\n",
       " 'the': 8,\n",
       " 'goat': 2,\n",
       " 'of': 4,\n",
       " 'previous': 5,\n",
       " 'generation': 1,\n",
       " 'virat': 10,\n",
       " 'is': 3,\n",
       " 'this': 9,\n",
       " 'shubhman': 7,\n",
       " 'future': 0}"
      ]
     },
     "execution_count": 21,
     "metadata": {},
     "output_type": "execute_result"
    }
   ],
   "source": [
    "matrix=vectorizer.fit(corpus)\n",
    "matrix.vocabulary_"
   ]
  },
  {
   "cell_type": "code",
   "execution_count": 24,
   "id": "201af818",
   "metadata": {},
   "outputs": [
    {
     "name": "stdout",
     "output_type": "stream",
     "text": [
      "  (0, 11)\t0.47698559825514686\n",
      "  (0, 8)\t0.28171537816186876\n",
      "  (0, 6)\t0.47698559825514686\n",
      "  (0, 5)\t0.47698559825514686\n",
      "  (0, 4)\t0.28171537816186876\n",
      "  (0, 2)\t0.28171537816186876\n",
      "  (0, 1)\t0.28171537816186876\n",
      "  (1, 10)\t0.5016513317715935\n",
      "  (1, 9)\t0.5016513317715935\n",
      "  (1, 8)\t0.2962833577206743\n",
      "  (1, 4)\t0.2962833577206743\n",
      "  (1, 3)\t0.3815187681027303\n",
      "  (1, 2)\t0.2962833577206743\n",
      "  (1, 1)\t0.2962833577206743\n",
      "  (2, 8)\t0.2962833577206743\n",
      "  (2, 7)\t0.5016513317715935\n",
      "  (2, 4)\t0.2962833577206743\n",
      "  (2, 3)\t0.3815187681027303\n",
      "  (2, 2)\t0.2962833577206743\n",
      "  (2, 1)\t0.2962833577206743\n",
      "  (2, 0)\t0.5016513317715935\n"
     ]
    }
   ],
   "source": [
    "tfidf_matrix=vectorizer.transform(corpus)\n",
    "print(tfidf_matrix)"
   ]
  },
  {
   "cell_type": "code",
   "execution_count": 26,
   "id": "ae4275ff",
   "metadata": {},
   "outputs": [
    {
     "name": "stdout",
     "output_type": "stream",
     "text": [
      "['future' 'generation' 'goat' 'is' 'of' 'previous' 'sachin' 'shubhman'\n",
      " 'the' 'this' 'virat' 'was']\n"
     ]
    }
   ],
   "source": [
    "print(vectorizer.get_feature_names_out())"
   ]
  },
  {
   "cell_type": "code",
   "execution_count": null,
   "id": "1f0b8493",
   "metadata": {},
   "outputs": [],
   "source": []
  }
 ],
 "metadata": {
  "kernelspec": {
   "display_name": "Python 3 (ipykernel)",
   "language": "python",
   "name": "python3"
  },
  "language_info": {
   "codemirror_mode": {
    "name": "ipython",
    "version": 3
   },
   "file_extension": ".py",
   "mimetype": "text/x-python",
   "name": "python",
   "nbconvert_exporter": "python",
   "pygments_lexer": "ipython3",
   "version": "3.8.10"
  }
 },
 "nbformat": 4,
 "nbformat_minor": 5
}
